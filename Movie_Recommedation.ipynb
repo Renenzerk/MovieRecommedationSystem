{
 "cells": [
  {
   "cell_type": "markdown",
   "metadata": {
    "id": "YLReB5a1JBrt"
   },
   "source": [
    "# A Movie Recommedation System"
   ]
  },
  {
   "cell_type": "markdown",
   "metadata": {
    "id": "umNRjMdcJN7Y"
   },
   "source": [
    "Before diving into the problem, let's import all import libraries.\n"
   ]
  },
  {
   "cell_type": "code",
   "execution_count": 1,
   "metadata": {
    "id": "3agJe3Kb1Czc"
   },
   "outputs": [],
   "source": [
    "import pandas as pd\n",
    "import numpy as np\n",
    "from sklearn.model_selection import train_test_split\n",
    "import tensorflow as tf\n",
    "from tensorflow import keras\n",
    "from numpy.linalg import norm\n",
    "import matplotlib.pyplot as plt\n",
    "# % matplotlib inline"
   ]
  },
  {
   "cell_type": "markdown",
   "metadata": {},
   "source": [
    "***Collaborative FIltering*** considers other users’ reactions while making recommendations. It does not need any addtional features of the items apart from user reactions to make recommendations.\n",
    "\n",
    "Collaborative systems can be:\n",
    "\n",
    "    1.Memory based: \n",
    "                    a)remembers the user-item interaction matrix and creates a item similarity or user similrity matrix depending on\n",
    "                      which type of  filtering is used, item based or user based. \n",
    "                    b)The main difference between two filterings are the way recommedations are made. \n",
    "                    c)In user-based, if a user A’s characteristics are similar to some other user B then, the products that B liked are \n",
    "                      recommended to A and in \n",
    "                    d)item-based if user A likes an item x, then, the items yand z which are similar to x in property, \n",
    "                      then y and z are recommended to the user.\n",
    "    2.Model based:  We compress the large interaction matrix using dimensional Reduction or using clustering algorithms and fit machine\n",
    "                    learning models and try to predict ratings which a user will gove to an item. Remembering the matrix is not required here\n",
    "                    The user interaction matrix is reduced to give movie features vector and a user feature vector.\n",
    "\n",
    "***Content Based Filtering***system tries to guess the features or behavior of a user given the item’s features he/she has reacted to.It does not require other users' data to make recommendations to one user.\n",
    "\n",
    "\n",
    "Content-based filtering is suitable for providing personalized recommendations that match user preferences and interests, while collaborative filtering can provide surprising and diverse recommendations that expose users to new or popular items."
   ]
  },
  {
   "cell_type": "markdown",
   "metadata": {
    "id": "iAgfM_PldraM"
   },
   "source": [
    "# Movie ratings dataset"
   ]
  },
  {
   "cell_type": "code",
   "execution_count": 2,
   "metadata": {
    "colab": {
     "base_uri": "https://localhost:8080/"
    },
    "id": "RD9sO9Dz1xup",
    "outputId": "90a07c51-d601-445b-caaf-7e378fdcc30b"
   },
   "outputs": [
    {
     "name": "stderr",
     "output_type": "stream",
     "text": [
      "C:\\Users\\Krish Arora\\AppData\\Local\\Temp\\ipykernel_22984\\2253132911.py:3: DtypeWarning: Columns (10) have mixed types. Specify dtype option on import or set low_memory=False.\n",
      "  meta=pd.read_csv('movies_metadata.csv')\n"
     ]
    }
   ],
   "source": [
    "#Load data\n",
    "ratings=pd.read_csv('ratings_small.csv')\n",
    "meta=pd.read_csv('movies_metadata.csv')\n",
    "links=pd.read_csv('links_small.csv')\n",
    "credit=pd.read_csv('credits.csv')"
   ]
  },
  {
   "cell_type": "markdown",
   "metadata": {
    "id": "1OhPDy6O9uAt"
   },
   "source": [
    "\n",
    "\n",
    "*   **ratings** holds rating values\n",
    "*   **meta**    holds metadata of the movies\n",
    "*   **links**   contains tmdbd and imdbd ids\n",
    "*   **credit**  contains cast and crew info about movies\n",
    "\n"
   ]
  },
  {
   "cell_type": "code",
   "execution_count": 3,
   "metadata": {
    "colab": {
     "base_uri": "https://localhost:8080/"
    },
    "id": "tSgqBGb2xtVJ",
    "outputId": "d7169e9c-c6ee-46db-920b-8301d9a16e5f"
   },
   "outputs": [
    {
     "name": "stdout",
     "output_type": "stream",
     "text": [
      "<class 'pandas.core.frame.DataFrame'>\n",
      "RangeIndex: 45466 entries, 0 to 45465\n",
      "Data columns (total 24 columns):\n",
      " #   Column                 Non-Null Count  Dtype  \n",
      "---  ------                 --------------  -----  \n",
      " 0   adult                  45466 non-null  object \n",
      " 1   belongs_to_collection  4494 non-null   object \n",
      " 2   budget                 45466 non-null  object \n",
      " 3   genres                 45466 non-null  object \n",
      " 4   homepage               7782 non-null   object \n",
      " 5   id                     45466 non-null  object \n",
      " 6   imdb_id                45449 non-null  object \n",
      " 7   original_language      45455 non-null  object \n",
      " 8   original_title         45466 non-null  object \n",
      " 9   overview               44512 non-null  object \n",
      " 10  popularity             45461 non-null  object \n",
      " 11  poster_path            45080 non-null  object \n",
      " 12  production_companies   45463 non-null  object \n",
      " 13  production_countries   45463 non-null  object \n",
      " 14  release_date           45379 non-null  object \n",
      " 15  revenue                45460 non-null  float64\n",
      " 16  runtime                45203 non-null  float64\n",
      " 17  spoken_languages       45460 non-null  object \n",
      " 18  status                 45379 non-null  object \n",
      " 19  tagline                20412 non-null  object \n",
      " 20  title                  45460 non-null  object \n",
      " 21  video                  45460 non-null  object \n",
      " 22  vote_average           45460 non-null  float64\n",
      " 23  vote_count             45460 non-null  float64\n",
      "dtypes: float64(4), object(20)\n",
      "memory usage: 8.3+ MB\n"
     ]
    }
   ],
   "source": [
    "meta.info()"
   ]
  },
  {
   "cell_type": "code",
   "execution_count": 4,
   "metadata": {},
   "outputs": [
    {
     "data": {
      "text/html": [
       "<div>\n",
       "<style scoped>\n",
       "    .dataframe tbody tr th:only-of-type {\n",
       "        vertical-align: middle;\n",
       "    }\n",
       "\n",
       "    .dataframe tbody tr th {\n",
       "        vertical-align: top;\n",
       "    }\n",
       "\n",
       "    .dataframe thead th {\n",
       "        text-align: right;\n",
       "    }\n",
       "</style>\n",
       "<table border=\"1\" class=\"dataframe\">\n",
       "  <thead>\n",
       "    <tr style=\"text-align: right;\">\n",
       "      <th></th>\n",
       "      <th>cast</th>\n",
       "      <th>crew</th>\n",
       "      <th>id</th>\n",
       "    </tr>\n",
       "  </thead>\n",
       "  <tbody>\n",
       "    <tr>\n",
       "      <th>0</th>\n",
       "      <td>[{'cast_id': 14, 'character': 'Woody (voice)',...</td>\n",
       "      <td>[{'credit_id': '52fe4284c3a36847f8024f49', 'de...</td>\n",
       "      <td>862</td>\n",
       "    </tr>\n",
       "    <tr>\n",
       "      <th>1</th>\n",
       "      <td>[{'cast_id': 1, 'character': 'Alan Parrish', '...</td>\n",
       "      <td>[{'credit_id': '52fe44bfc3a36847f80a7cd1', 'de...</td>\n",
       "      <td>8844</td>\n",
       "    </tr>\n",
       "    <tr>\n",
       "      <th>2</th>\n",
       "      <td>[{'cast_id': 2, 'character': 'Max Goldman', 'c...</td>\n",
       "      <td>[{'credit_id': '52fe466a9251416c75077a89', 'de...</td>\n",
       "      <td>15602</td>\n",
       "    </tr>\n",
       "    <tr>\n",
       "      <th>3</th>\n",
       "      <td>[{'cast_id': 1, 'character': \"Savannah 'Vannah...</td>\n",
       "      <td>[{'credit_id': '52fe44779251416c91011acb', 'de...</td>\n",
       "      <td>31357</td>\n",
       "    </tr>\n",
       "    <tr>\n",
       "      <th>4</th>\n",
       "      <td>[{'cast_id': 1, 'character': 'George Banks', '...</td>\n",
       "      <td>[{'credit_id': '52fe44959251416c75039ed7', 'de...</td>\n",
       "      <td>11862</td>\n",
       "    </tr>\n",
       "  </tbody>\n",
       "</table>\n",
       "</div>"
      ],
      "text/plain": [
       "                                                cast  \\\n",
       "0  [{'cast_id': 14, 'character': 'Woody (voice)',...   \n",
       "1  [{'cast_id': 1, 'character': 'Alan Parrish', '...   \n",
       "2  [{'cast_id': 2, 'character': 'Max Goldman', 'c...   \n",
       "3  [{'cast_id': 1, 'character': \"Savannah 'Vannah...   \n",
       "4  [{'cast_id': 1, 'character': 'George Banks', '...   \n",
       "\n",
       "                                                crew     id  \n",
       "0  [{'credit_id': '52fe4284c3a36847f8024f49', 'de...    862  \n",
       "1  [{'credit_id': '52fe44bfc3a36847f80a7cd1', 'de...   8844  \n",
       "2  [{'credit_id': '52fe466a9251416c75077a89', 'de...  15602  \n",
       "3  [{'credit_id': '52fe44779251416c91011acb', 'de...  31357  \n",
       "4  [{'credit_id': '52fe44959251416c75039ed7', 'de...  11862  "
      ]
     },
     "execution_count": 4,
     "metadata": {},
     "output_type": "execute_result"
    }
   ],
   "source": [
    "credit.head()"
   ]
  },
  {
   "cell_type": "markdown",
   "metadata": {
    "id": "m1g6QQ4ie2_4"
   },
   "source": [
    "# Preprocessing and cleaning of the dataset"
   ]
  },
  {
   "cell_type": "markdown",
   "metadata": {
    "id": "6frehxqk2Pkz"
   },
   "source": [
    "First of all we will convert ids value in string type to numerical value and for that we use pd.to_numeric function\n",
    "\n",
    "PS: non numeric values in id will get nan value due to the attribute **errors='coerce'**"
   ]
  },
  {
   "cell_type": "code",
   "execution_count": 5,
   "metadata": {
    "id": "t7QrPCc8qGwX"
   },
   "outputs": [],
   "source": [
    "meta['id']=pd.to_numeric(meta['id'],errors='coerce')"
   ]
  },
  {
   "cell_type": "markdown",
   "metadata": {
    "id": "8_mK2iYC2kQ-"
   },
   "source": [
    "Drop rows with non numeric id values in the id column"
   ]
  },
  {
   "cell_type": "code",
   "execution_count": 6,
   "metadata": {
    "id": "e61TXI2z0Yzg"
   },
   "outputs": [],
   "source": [
    "meta=meta.dropna(subset='id')       #eliminate garbage entries"
   ]
  },
  {
   "cell_type": "markdown",
   "metadata": {
    "id": "LF5Wdvb82vc9"
   },
   "source": [
    "Let's merge the loaded dataset into single dataframe"
   ]
  },
  {
   "cell_type": "code",
   "execution_count": 7,
   "metadata": {
    "colab": {
     "base_uri": "https://localhost:8080/",
     "height": 1000
    },
    "id": "heeK4tOpvkMC",
    "outputId": "cc24aba8-9121-453b-86ef-778b55dd1165"
   },
   "outputs": [],
   "source": [
    "df=pd.merge(links,meta,left_on='tmdbId',right_on='id',how='inner')\n",
    "df=pd.merge(df,ratings,on='movieId')\n",
    "df=pd.merge(df,credit,on='id')\n",
    "# df "
   ]
  },
  {
   "cell_type": "code",
   "execution_count": 8,
   "metadata": {
    "colab": {
     "base_uri": "https://localhost:8080/",
     "height": 1000
    },
    "id": "kqaUMOS0zgzC",
    "outputId": "05d72b5c-8b48-444f-a210-eb2eb130d2ad"
   },
   "outputs": [
    {
     "data": {
      "text/html": [
       "<div>\n",
       "<style scoped>\n",
       "    .dataframe tbody tr th:only-of-type {\n",
       "        vertical-align: middle;\n",
       "    }\n",
       "\n",
       "    .dataframe tbody tr th {\n",
       "        vertical-align: top;\n",
       "    }\n",
       "\n",
       "    .dataframe thead th {\n",
       "        text-align: right;\n",
       "    }\n",
       "</style>\n",
       "<table border=\"1\" class=\"dataframe\">\n",
       "  <thead>\n",
       "    <tr style=\"text-align: right;\">\n",
       "      <th></th>\n",
       "      <th>movieId</th>\n",
       "      <th>imdbId</th>\n",
       "      <th>tmdbId</th>\n",
       "      <th>adult</th>\n",
       "      <th>belongs_to_collection</th>\n",
       "      <th>budget</th>\n",
       "      <th>genres</th>\n",
       "      <th>homepage</th>\n",
       "      <th>id</th>\n",
       "      <th>imdb_id</th>\n",
       "      <th>...</th>\n",
       "      <th>tagline</th>\n",
       "      <th>title</th>\n",
       "      <th>video</th>\n",
       "      <th>vote_average</th>\n",
       "      <th>vote_count</th>\n",
       "      <th>userId</th>\n",
       "      <th>rating</th>\n",
       "      <th>timestamp</th>\n",
       "      <th>cast</th>\n",
       "      <th>crew</th>\n",
       "    </tr>\n",
       "  </thead>\n",
       "  <tbody>\n",
       "    <tr>\n",
       "      <th>0</th>\n",
       "      <td>1</td>\n",
       "      <td>114709</td>\n",
       "      <td>862.0</td>\n",
       "      <td>False</td>\n",
       "      <td>{'id': 10194, 'name': 'Toy Story Collection', ...</td>\n",
       "      <td>30000000</td>\n",
       "      <td>[{'id': 16, 'name': 'Animation'}, {'id': 35, '...</td>\n",
       "      <td>http://toystory.disney.com/toy-story</td>\n",
       "      <td>862.0</td>\n",
       "      <td>tt0114709</td>\n",
       "      <td>...</td>\n",
       "      <td>NaN</td>\n",
       "      <td>Toy Story</td>\n",
       "      <td>False</td>\n",
       "      <td>7.7</td>\n",
       "      <td>5415.0</td>\n",
       "      <td>7</td>\n",
       "      <td>3.0</td>\n",
       "      <td>851866703</td>\n",
       "      <td>[{'cast_id': 14, 'character': 'Woody (voice)',...</td>\n",
       "      <td>[{'credit_id': '52fe4284c3a36847f8024f49', 'de...</td>\n",
       "    </tr>\n",
       "    <tr>\n",
       "      <th>1</th>\n",
       "      <td>1</td>\n",
       "      <td>114709</td>\n",
       "      <td>862.0</td>\n",
       "      <td>False</td>\n",
       "      <td>{'id': 10194, 'name': 'Toy Story Collection', ...</td>\n",
       "      <td>30000000</td>\n",
       "      <td>[{'id': 16, 'name': 'Animation'}, {'id': 35, '...</td>\n",
       "      <td>http://toystory.disney.com/toy-story</td>\n",
       "      <td>862.0</td>\n",
       "      <td>tt0114709</td>\n",
       "      <td>...</td>\n",
       "      <td>NaN</td>\n",
       "      <td>Toy Story</td>\n",
       "      <td>False</td>\n",
       "      <td>7.7</td>\n",
       "      <td>5415.0</td>\n",
       "      <td>9</td>\n",
       "      <td>4.0</td>\n",
       "      <td>938629179</td>\n",
       "      <td>[{'cast_id': 14, 'character': 'Woody (voice)',...</td>\n",
       "      <td>[{'credit_id': '52fe4284c3a36847f8024f49', 'de...</td>\n",
       "    </tr>\n",
       "    <tr>\n",
       "      <th>2</th>\n",
       "      <td>1</td>\n",
       "      <td>114709</td>\n",
       "      <td>862.0</td>\n",
       "      <td>False</td>\n",
       "      <td>{'id': 10194, 'name': 'Toy Story Collection', ...</td>\n",
       "      <td>30000000</td>\n",
       "      <td>[{'id': 16, 'name': 'Animation'}, {'id': 35, '...</td>\n",
       "      <td>http://toystory.disney.com/toy-story</td>\n",
       "      <td>862.0</td>\n",
       "      <td>tt0114709</td>\n",
       "      <td>...</td>\n",
       "      <td>NaN</td>\n",
       "      <td>Toy Story</td>\n",
       "      <td>False</td>\n",
       "      <td>7.7</td>\n",
       "      <td>5415.0</td>\n",
       "      <td>13</td>\n",
       "      <td>5.0</td>\n",
       "      <td>1331380058</td>\n",
       "      <td>[{'cast_id': 14, 'character': 'Woody (voice)',...</td>\n",
       "      <td>[{'credit_id': '52fe4284c3a36847f8024f49', 'de...</td>\n",
       "    </tr>\n",
       "    <tr>\n",
       "      <th>3</th>\n",
       "      <td>1</td>\n",
       "      <td>114709</td>\n",
       "      <td>862.0</td>\n",
       "      <td>False</td>\n",
       "      <td>{'id': 10194, 'name': 'Toy Story Collection', ...</td>\n",
       "      <td>30000000</td>\n",
       "      <td>[{'id': 16, 'name': 'Animation'}, {'id': 35, '...</td>\n",
       "      <td>http://toystory.disney.com/toy-story</td>\n",
       "      <td>862.0</td>\n",
       "      <td>tt0114709</td>\n",
       "      <td>...</td>\n",
       "      <td>NaN</td>\n",
       "      <td>Toy Story</td>\n",
       "      <td>False</td>\n",
       "      <td>7.7</td>\n",
       "      <td>5415.0</td>\n",
       "      <td>15</td>\n",
       "      <td>2.0</td>\n",
       "      <td>997938310</td>\n",
       "      <td>[{'cast_id': 14, 'character': 'Woody (voice)',...</td>\n",
       "      <td>[{'credit_id': '52fe4284c3a36847f8024f49', 'de...</td>\n",
       "    </tr>\n",
       "    <tr>\n",
       "      <th>4</th>\n",
       "      <td>1</td>\n",
       "      <td>114709</td>\n",
       "      <td>862.0</td>\n",
       "      <td>False</td>\n",
       "      <td>{'id': 10194, 'name': 'Toy Story Collection', ...</td>\n",
       "      <td>30000000</td>\n",
       "      <td>[{'id': 16, 'name': 'Animation'}, {'id': 35, '...</td>\n",
       "      <td>http://toystory.disney.com/toy-story</td>\n",
       "      <td>862.0</td>\n",
       "      <td>tt0114709</td>\n",
       "      <td>...</td>\n",
       "      <td>NaN</td>\n",
       "      <td>Toy Story</td>\n",
       "      <td>False</td>\n",
       "      <td>7.7</td>\n",
       "      <td>5415.0</td>\n",
       "      <td>19</td>\n",
       "      <td>3.0</td>\n",
       "      <td>855190091</td>\n",
       "      <td>[{'cast_id': 14, 'character': 'Woody (voice)',...</td>\n",
       "      <td>[{'credit_id': '52fe4284c3a36847f8024f49', 'de...</td>\n",
       "    </tr>\n",
       "    <tr>\n",
       "      <th>...</th>\n",
       "      <td>...</td>\n",
       "      <td>...</td>\n",
       "      <td>...</td>\n",
       "      <td>...</td>\n",
       "      <td>...</td>\n",
       "      <td>...</td>\n",
       "      <td>...</td>\n",
       "      <td>...</td>\n",
       "      <td>...</td>\n",
       "      <td>...</td>\n",
       "      <td>...</td>\n",
       "      <td>...</td>\n",
       "      <td>...</td>\n",
       "      <td>...</td>\n",
       "      <td>...</td>\n",
       "      <td>...</td>\n",
       "      <td>...</td>\n",
       "      <td>...</td>\n",
       "      <td>...</td>\n",
       "      <td>...</td>\n",
       "      <td>...</td>\n",
       "    </tr>\n",
       "    <tr>\n",
       "      <th>99925</th>\n",
       "      <td>161918</td>\n",
       "      <td>4831420</td>\n",
       "      <td>390989.0</td>\n",
       "      <td>False</td>\n",
       "      <td>{'id': 286023, 'name': 'Sharknado Collection',...</td>\n",
       "      <td>0</td>\n",
       "      <td>[{'id': 35, 'name': 'Comedy'}, {'id': 27, 'nam...</td>\n",
       "      <td>http://www.syfy.com/sharknado4</td>\n",
       "      <td>390989.0</td>\n",
       "      <td>tt4831420</td>\n",
       "      <td>...</td>\n",
       "      <td>What happens in Vegas, stays in Vegas. Unless ...</td>\n",
       "      <td>Sharknado 4: The 4th Awakens</td>\n",
       "      <td>False</td>\n",
       "      <td>4.3</td>\n",
       "      <td>88.0</td>\n",
       "      <td>624</td>\n",
       "      <td>1.5</td>\n",
       "      <td>1472929873</td>\n",
       "      <td>[{'cast_id': 0, 'character': 'Fin Shepard', 'c...</td>\n",
       "      <td>[{'credit_id': '56ffae0cc3a3686ea7001e00', 'de...</td>\n",
       "    </tr>\n",
       "    <tr>\n",
       "      <th>99926</th>\n",
       "      <td>161944</td>\n",
       "      <td>255313</td>\n",
       "      <td>159550.0</td>\n",
       "      <td>False</td>\n",
       "      <td>NaN</td>\n",
       "      <td>8000000</td>\n",
       "      <td>[{'id': 18, 'name': 'Drama'}]</td>\n",
       "      <td>NaN</td>\n",
       "      <td>159550.0</td>\n",
       "      <td>tt0255313</td>\n",
       "      <td>...</td>\n",
       "      <td>NaN</td>\n",
       "      <td>The Last Brickmaker in America</td>\n",
       "      <td>False</td>\n",
       "      <td>7.0</td>\n",
       "      <td>1.0</td>\n",
       "      <td>287</td>\n",
       "      <td>5.0</td>\n",
       "      <td>1470167824</td>\n",
       "      <td>[{'cast_id': 1, 'character': 'Henry Cobb', 'cr...</td>\n",
       "      <td>[{'credit_id': '544475aac3a36819fb000578', 'de...</td>\n",
       "    </tr>\n",
       "    <tr>\n",
       "      <th>99927</th>\n",
       "      <td>162542</td>\n",
       "      <td>5165344</td>\n",
       "      <td>392572.0</td>\n",
       "      <td>False</td>\n",
       "      <td>NaN</td>\n",
       "      <td>1000000</td>\n",
       "      <td>[{'id': 53, 'name': 'Thriller'}, {'id': 10749,...</td>\n",
       "      <td>NaN</td>\n",
       "      <td>392572.0</td>\n",
       "      <td>tt5165344</td>\n",
       "      <td>...</td>\n",
       "      <td>Decorated Officer. Devoted Family Man. Defendi...</td>\n",
       "      <td>Rustom</td>\n",
       "      <td>False</td>\n",
       "      <td>7.3</td>\n",
       "      <td>25.0</td>\n",
       "      <td>611</td>\n",
       "      <td>5.0</td>\n",
       "      <td>1471520667</td>\n",
       "      <td>[{'cast_id': 0, 'character': 'Rustom Pavri', '...</td>\n",
       "      <td>[{'credit_id': '5951baf692514129c4016600', 'de...</td>\n",
       "    </tr>\n",
       "    <tr>\n",
       "      <th>99928</th>\n",
       "      <td>162672</td>\n",
       "      <td>3859980</td>\n",
       "      <td>402672.0</td>\n",
       "      <td>False</td>\n",
       "      <td>NaN</td>\n",
       "      <td>15050000</td>\n",
       "      <td>[{'id': 12, 'name': 'Adventure'}, {'id': 18, '...</td>\n",
       "      <td>NaN</td>\n",
       "      <td>402672.0</td>\n",
       "      <td>tt3859980</td>\n",
       "      <td>...</td>\n",
       "      <td>NaN</td>\n",
       "      <td>Mohenjo Daro</td>\n",
       "      <td>False</td>\n",
       "      <td>6.7</td>\n",
       "      <td>26.0</td>\n",
       "      <td>611</td>\n",
       "      <td>3.0</td>\n",
       "      <td>1471523986</td>\n",
       "      <td>[{'cast_id': 0, 'character': 'Sarman', 'credit...</td>\n",
       "      <td>[{'credit_id': '57cd5d3592514179d50018e8', 'de...</td>\n",
       "    </tr>\n",
       "    <tr>\n",
       "      <th>99929</th>\n",
       "      <td>163949</td>\n",
       "      <td>2531318</td>\n",
       "      <td>391698.0</td>\n",
       "      <td>False</td>\n",
       "      <td>NaN</td>\n",
       "      <td>0</td>\n",
       "      <td>[{'id': 99, 'name': 'Documentary'}, {'id': 104...</td>\n",
       "      <td>http://www.thebeatlesliveproject.com/</td>\n",
       "      <td>391698.0</td>\n",
       "      <td>tt2531318</td>\n",
       "      <td>...</td>\n",
       "      <td>The band you know. The story you don't.</td>\n",
       "      <td>The Beatles: Eight Days a Week - The Touring Y...</td>\n",
       "      <td>False</td>\n",
       "      <td>7.6</td>\n",
       "      <td>92.0</td>\n",
       "      <td>547</td>\n",
       "      <td>5.0</td>\n",
       "      <td>1476419239</td>\n",
       "      <td>[{'cast_id': 0, 'character': 'Himself', 'credi...</td>\n",
       "      <td>[{'credit_id': '57057c6cc3a3680dca000285', 'de...</td>\n",
       "    </tr>\n",
       "  </tbody>\n",
       "</table>\n",
       "<p>99810 rows × 32 columns</p>\n",
       "</div>"
      ],
      "text/plain": [
       "       movieId   imdbId    tmdbId  adult  \\\n",
       "0            1   114709     862.0  False   \n",
       "1            1   114709     862.0  False   \n",
       "2            1   114709     862.0  False   \n",
       "3            1   114709     862.0  False   \n",
       "4            1   114709     862.0  False   \n",
       "...        ...      ...       ...    ...   \n",
       "99925   161918  4831420  390989.0  False   \n",
       "99926   161944   255313  159550.0  False   \n",
       "99927   162542  5165344  392572.0  False   \n",
       "99928   162672  3859980  402672.0  False   \n",
       "99929   163949  2531318  391698.0  False   \n",
       "\n",
       "                                   belongs_to_collection    budget  \\\n",
       "0      {'id': 10194, 'name': 'Toy Story Collection', ...  30000000   \n",
       "1      {'id': 10194, 'name': 'Toy Story Collection', ...  30000000   \n",
       "2      {'id': 10194, 'name': 'Toy Story Collection', ...  30000000   \n",
       "3      {'id': 10194, 'name': 'Toy Story Collection', ...  30000000   \n",
       "4      {'id': 10194, 'name': 'Toy Story Collection', ...  30000000   \n",
       "...                                                  ...       ...   \n",
       "99925  {'id': 286023, 'name': 'Sharknado Collection',...         0   \n",
       "99926                                                NaN   8000000   \n",
       "99927                                                NaN   1000000   \n",
       "99928                                                NaN  15050000   \n",
       "99929                                                NaN         0   \n",
       "\n",
       "                                                  genres  \\\n",
       "0      [{'id': 16, 'name': 'Animation'}, {'id': 35, '...   \n",
       "1      [{'id': 16, 'name': 'Animation'}, {'id': 35, '...   \n",
       "2      [{'id': 16, 'name': 'Animation'}, {'id': 35, '...   \n",
       "3      [{'id': 16, 'name': 'Animation'}, {'id': 35, '...   \n",
       "4      [{'id': 16, 'name': 'Animation'}, {'id': 35, '...   \n",
       "...                                                  ...   \n",
       "99925  [{'id': 35, 'name': 'Comedy'}, {'id': 27, 'nam...   \n",
       "99926                      [{'id': 18, 'name': 'Drama'}]   \n",
       "99927  [{'id': 53, 'name': 'Thriller'}, {'id': 10749,...   \n",
       "99928  [{'id': 12, 'name': 'Adventure'}, {'id': 18, '...   \n",
       "99929  [{'id': 99, 'name': 'Documentary'}, {'id': 104...   \n",
       "\n",
       "                                    homepage        id    imdb_id  ...  \\\n",
       "0       http://toystory.disney.com/toy-story     862.0  tt0114709  ...   \n",
       "1       http://toystory.disney.com/toy-story     862.0  tt0114709  ...   \n",
       "2       http://toystory.disney.com/toy-story     862.0  tt0114709  ...   \n",
       "3       http://toystory.disney.com/toy-story     862.0  tt0114709  ...   \n",
       "4       http://toystory.disney.com/toy-story     862.0  tt0114709  ...   \n",
       "...                                      ...       ...        ...  ...   \n",
       "99925         http://www.syfy.com/sharknado4  390989.0  tt4831420  ...   \n",
       "99926                                    NaN  159550.0  tt0255313  ...   \n",
       "99927                                    NaN  392572.0  tt5165344  ...   \n",
       "99928                                    NaN  402672.0  tt3859980  ...   \n",
       "99929  http://www.thebeatlesliveproject.com/  391698.0  tt2531318  ...   \n",
       "\n",
       "                                                 tagline  \\\n",
       "0                                                    NaN   \n",
       "1                                                    NaN   \n",
       "2                                                    NaN   \n",
       "3                                                    NaN   \n",
       "4                                                    NaN   \n",
       "...                                                  ...   \n",
       "99925  What happens in Vegas, stays in Vegas. Unless ...   \n",
       "99926                                                NaN   \n",
       "99927  Decorated Officer. Devoted Family Man. Defendi...   \n",
       "99928                                                NaN   \n",
       "99929            The band you know. The story you don't.   \n",
       "\n",
       "                                                   title  video vote_average  \\\n",
       "0                                              Toy Story  False          7.7   \n",
       "1                                              Toy Story  False          7.7   \n",
       "2                                              Toy Story  False          7.7   \n",
       "3                                              Toy Story  False          7.7   \n",
       "4                                              Toy Story  False          7.7   \n",
       "...                                                  ...    ...          ...   \n",
       "99925                       Sharknado 4: The 4th Awakens  False          4.3   \n",
       "99926                     The Last Brickmaker in America  False          7.0   \n",
       "99927                                             Rustom  False          7.3   \n",
       "99928                                       Mohenjo Daro  False          6.7   \n",
       "99929  The Beatles: Eight Days a Week - The Touring Y...  False          7.6   \n",
       "\n",
       "      vote_count userId rating   timestamp  \\\n",
       "0         5415.0      7    3.0   851866703   \n",
       "1         5415.0      9    4.0   938629179   \n",
       "2         5415.0     13    5.0  1331380058   \n",
       "3         5415.0     15    2.0   997938310   \n",
       "4         5415.0     19    3.0   855190091   \n",
       "...          ...    ...    ...         ...   \n",
       "99925       88.0    624    1.5  1472929873   \n",
       "99926        1.0    287    5.0  1470167824   \n",
       "99927       25.0    611    5.0  1471520667   \n",
       "99928       26.0    611    3.0  1471523986   \n",
       "99929       92.0    547    5.0  1476419239   \n",
       "\n",
       "                                                    cast  \\\n",
       "0      [{'cast_id': 14, 'character': 'Woody (voice)',...   \n",
       "1      [{'cast_id': 14, 'character': 'Woody (voice)',...   \n",
       "2      [{'cast_id': 14, 'character': 'Woody (voice)',...   \n",
       "3      [{'cast_id': 14, 'character': 'Woody (voice)',...   \n",
       "4      [{'cast_id': 14, 'character': 'Woody (voice)',...   \n",
       "...                                                  ...   \n",
       "99925  [{'cast_id': 0, 'character': 'Fin Shepard', 'c...   \n",
       "99926  [{'cast_id': 1, 'character': 'Henry Cobb', 'cr...   \n",
       "99927  [{'cast_id': 0, 'character': 'Rustom Pavri', '...   \n",
       "99928  [{'cast_id': 0, 'character': 'Sarman', 'credit...   \n",
       "99929  [{'cast_id': 0, 'character': 'Himself', 'credi...   \n",
       "\n",
       "                                                    crew  \n",
       "0      [{'credit_id': '52fe4284c3a36847f8024f49', 'de...  \n",
       "1      [{'credit_id': '52fe4284c3a36847f8024f49', 'de...  \n",
       "2      [{'credit_id': '52fe4284c3a36847f8024f49', 'de...  \n",
       "3      [{'credit_id': '52fe4284c3a36847f8024f49', 'de...  \n",
       "4      [{'credit_id': '52fe4284c3a36847f8024f49', 'de...  \n",
       "...                                                  ...  \n",
       "99925  [{'credit_id': '56ffae0cc3a3686ea7001e00', 'de...  \n",
       "99926  [{'credit_id': '544475aac3a36819fb000578', 'de...  \n",
       "99927  [{'credit_id': '5951baf692514129c4016600', 'de...  \n",
       "99928  [{'credit_id': '57cd5d3592514179d50018e8', 'de...  \n",
       "99929  [{'credit_id': '57057c6cc3a3680dca000285', 'de...  \n",
       "\n",
       "[99810 rows x 32 columns]"
      ]
     },
     "execution_count": 8,
     "metadata": {},
     "output_type": "execute_result"
    }
   ],
   "source": [
    "df = df.drop_duplicates(subset=['userId', 'movieId'], keep='last')\n",
    "# drop_duplicate() function removes the duplicate entries\n",
    "df\n",
    "# df is the final datframe"
   ]
  },
  {
   "cell_type": "markdown",
   "metadata": {
    "id": "K7aeQJ8Dx5nn"
   },
   "source": [
    "Let's try to extract more information from the dataset like genres which are in the JSON string formats."
   ]
  },
  {
   "cell_type": "code",
   "execution_count": 9,
   "metadata": {},
   "outputs": [],
   "source": [
    "final=df.copy()  # copy() fxn creates a deep copy i.e changes in one won't get affected in other\n",
    "final['genres']=df['genres'].str.replace(\"'\",'\"')"
   ]
  },
  {
   "cell_type": "code",
   "execution_count": 10,
   "metadata": {},
   "outputs": [],
   "source": [
    "import json\n",
    "final['genres'] =final['genres'].apply(json.loads)   #apply fxn is used to apply our function to all the elements of the panda series"
   ]
  },
  {
   "cell_type": "code",
   "execution_count": 11,
   "metadata": {},
   "outputs": [],
   "source": [
    "final['genres'] = final['genres'].apply(lambda x: str([genre['name'] for genre in x]))"
   ]
  },
  {
   "cell_type": "code",
   "execution_count": 12,
   "metadata": {},
   "outputs": [
    {
     "data": {
      "text/html": [
       "<div>\n",
       "<style scoped>\n",
       "    .dataframe tbody tr th:only-of-type {\n",
       "        vertical-align: middle;\n",
       "    }\n",
       "\n",
       "    .dataframe tbody tr th {\n",
       "        vertical-align: top;\n",
       "    }\n",
       "\n",
       "    .dataframe thead th {\n",
       "        text-align: right;\n",
       "    }\n",
       "</style>\n",
       "<table border=\"1\" class=\"dataframe\">\n",
       "  <thead>\n",
       "    <tr style=\"text-align: right;\">\n",
       "      <th></th>\n",
       "      <th>movieId</th>\n",
       "      <th>imdbId</th>\n",
       "      <th>tmdbId</th>\n",
       "      <th>adult</th>\n",
       "      <th>belongs_to_collection</th>\n",
       "      <th>budget</th>\n",
       "      <th>genres</th>\n",
       "      <th>homepage</th>\n",
       "      <th>id</th>\n",
       "      <th>imdb_id</th>\n",
       "      <th>...</th>\n",
       "      <th>tagline</th>\n",
       "      <th>title</th>\n",
       "      <th>video</th>\n",
       "      <th>vote_average</th>\n",
       "      <th>vote_count</th>\n",
       "      <th>userId</th>\n",
       "      <th>rating</th>\n",
       "      <th>timestamp</th>\n",
       "      <th>cast</th>\n",
       "      <th>crew</th>\n",
       "    </tr>\n",
       "  </thead>\n",
       "  <tbody>\n",
       "    <tr>\n",
       "      <th>0</th>\n",
       "      <td>1</td>\n",
       "      <td>114709</td>\n",
       "      <td>862.0</td>\n",
       "      <td>False</td>\n",
       "      <td>{'id': 10194, 'name': 'Toy Story Collection', ...</td>\n",
       "      <td>30000000</td>\n",
       "      <td>['Animation', 'Comedy', 'Family']</td>\n",
       "      <td>http://toystory.disney.com/toy-story</td>\n",
       "      <td>862.0</td>\n",
       "      <td>tt0114709</td>\n",
       "      <td>...</td>\n",
       "      <td>NaN</td>\n",
       "      <td>Toy Story</td>\n",
       "      <td>False</td>\n",
       "      <td>7.7</td>\n",
       "      <td>5415.0</td>\n",
       "      <td>7</td>\n",
       "      <td>3.0</td>\n",
       "      <td>851866703</td>\n",
       "      <td>[{'cast_id': 14, 'character': 'Woody (voice)',...</td>\n",
       "      <td>[{'credit_id': '52fe4284c3a36847f8024f49', 'de...</td>\n",
       "    </tr>\n",
       "    <tr>\n",
       "      <th>1</th>\n",
       "      <td>1</td>\n",
       "      <td>114709</td>\n",
       "      <td>862.0</td>\n",
       "      <td>False</td>\n",
       "      <td>{'id': 10194, 'name': 'Toy Story Collection', ...</td>\n",
       "      <td>30000000</td>\n",
       "      <td>['Animation', 'Comedy', 'Family']</td>\n",
       "      <td>http://toystory.disney.com/toy-story</td>\n",
       "      <td>862.0</td>\n",
       "      <td>tt0114709</td>\n",
       "      <td>...</td>\n",
       "      <td>NaN</td>\n",
       "      <td>Toy Story</td>\n",
       "      <td>False</td>\n",
       "      <td>7.7</td>\n",
       "      <td>5415.0</td>\n",
       "      <td>9</td>\n",
       "      <td>4.0</td>\n",
       "      <td>938629179</td>\n",
       "      <td>[{'cast_id': 14, 'character': 'Woody (voice)',...</td>\n",
       "      <td>[{'credit_id': '52fe4284c3a36847f8024f49', 'de...</td>\n",
       "    </tr>\n",
       "    <tr>\n",
       "      <th>2</th>\n",
       "      <td>1</td>\n",
       "      <td>114709</td>\n",
       "      <td>862.0</td>\n",
       "      <td>False</td>\n",
       "      <td>{'id': 10194, 'name': 'Toy Story Collection', ...</td>\n",
       "      <td>30000000</td>\n",
       "      <td>['Animation', 'Comedy', 'Family']</td>\n",
       "      <td>http://toystory.disney.com/toy-story</td>\n",
       "      <td>862.0</td>\n",
       "      <td>tt0114709</td>\n",
       "      <td>...</td>\n",
       "      <td>NaN</td>\n",
       "      <td>Toy Story</td>\n",
       "      <td>False</td>\n",
       "      <td>7.7</td>\n",
       "      <td>5415.0</td>\n",
       "      <td>13</td>\n",
       "      <td>5.0</td>\n",
       "      <td>1331380058</td>\n",
       "      <td>[{'cast_id': 14, 'character': 'Woody (voice)',...</td>\n",
       "      <td>[{'credit_id': '52fe4284c3a36847f8024f49', 'de...</td>\n",
       "    </tr>\n",
       "    <tr>\n",
       "      <th>3</th>\n",
       "      <td>1</td>\n",
       "      <td>114709</td>\n",
       "      <td>862.0</td>\n",
       "      <td>False</td>\n",
       "      <td>{'id': 10194, 'name': 'Toy Story Collection', ...</td>\n",
       "      <td>30000000</td>\n",
       "      <td>['Animation', 'Comedy', 'Family']</td>\n",
       "      <td>http://toystory.disney.com/toy-story</td>\n",
       "      <td>862.0</td>\n",
       "      <td>tt0114709</td>\n",
       "      <td>...</td>\n",
       "      <td>NaN</td>\n",
       "      <td>Toy Story</td>\n",
       "      <td>False</td>\n",
       "      <td>7.7</td>\n",
       "      <td>5415.0</td>\n",
       "      <td>15</td>\n",
       "      <td>2.0</td>\n",
       "      <td>997938310</td>\n",
       "      <td>[{'cast_id': 14, 'character': 'Woody (voice)',...</td>\n",
       "      <td>[{'credit_id': '52fe4284c3a36847f8024f49', 'de...</td>\n",
       "    </tr>\n",
       "    <tr>\n",
       "      <th>4</th>\n",
       "      <td>1</td>\n",
       "      <td>114709</td>\n",
       "      <td>862.0</td>\n",
       "      <td>False</td>\n",
       "      <td>{'id': 10194, 'name': 'Toy Story Collection', ...</td>\n",
       "      <td>30000000</td>\n",
       "      <td>['Animation', 'Comedy', 'Family']</td>\n",
       "      <td>http://toystory.disney.com/toy-story</td>\n",
       "      <td>862.0</td>\n",
       "      <td>tt0114709</td>\n",
       "      <td>...</td>\n",
       "      <td>NaN</td>\n",
       "      <td>Toy Story</td>\n",
       "      <td>False</td>\n",
       "      <td>7.7</td>\n",
       "      <td>5415.0</td>\n",
       "      <td>19</td>\n",
       "      <td>3.0</td>\n",
       "      <td>855190091</td>\n",
       "      <td>[{'cast_id': 14, 'character': 'Woody (voice)',...</td>\n",
       "      <td>[{'credit_id': '52fe4284c3a36847f8024f49', 'de...</td>\n",
       "    </tr>\n",
       "    <tr>\n",
       "      <th>...</th>\n",
       "      <td>...</td>\n",
       "      <td>...</td>\n",
       "      <td>...</td>\n",
       "      <td>...</td>\n",
       "      <td>...</td>\n",
       "      <td>...</td>\n",
       "      <td>...</td>\n",
       "      <td>...</td>\n",
       "      <td>...</td>\n",
       "      <td>...</td>\n",
       "      <td>...</td>\n",
       "      <td>...</td>\n",
       "      <td>...</td>\n",
       "      <td>...</td>\n",
       "      <td>...</td>\n",
       "      <td>...</td>\n",
       "      <td>...</td>\n",
       "      <td>...</td>\n",
       "      <td>...</td>\n",
       "      <td>...</td>\n",
       "      <td>...</td>\n",
       "    </tr>\n",
       "    <tr>\n",
       "      <th>99925</th>\n",
       "      <td>161918</td>\n",
       "      <td>4831420</td>\n",
       "      <td>390989.0</td>\n",
       "      <td>False</td>\n",
       "      <td>{'id': 286023, 'name': 'Sharknado Collection',...</td>\n",
       "      <td>0</td>\n",
       "      <td>['Comedy', 'Horror', 'Science Fiction']</td>\n",
       "      <td>http://www.syfy.com/sharknado4</td>\n",
       "      <td>390989.0</td>\n",
       "      <td>tt4831420</td>\n",
       "      <td>...</td>\n",
       "      <td>What happens in Vegas, stays in Vegas. Unless ...</td>\n",
       "      <td>Sharknado 4: The 4th Awakens</td>\n",
       "      <td>False</td>\n",
       "      <td>4.3</td>\n",
       "      <td>88.0</td>\n",
       "      <td>624</td>\n",
       "      <td>1.5</td>\n",
       "      <td>1472929873</td>\n",
       "      <td>[{'cast_id': 0, 'character': 'Fin Shepard', 'c...</td>\n",
       "      <td>[{'credit_id': '56ffae0cc3a3686ea7001e00', 'de...</td>\n",
       "    </tr>\n",
       "    <tr>\n",
       "      <th>99926</th>\n",
       "      <td>161944</td>\n",
       "      <td>255313</td>\n",
       "      <td>159550.0</td>\n",
       "      <td>False</td>\n",
       "      <td>NaN</td>\n",
       "      <td>8000000</td>\n",
       "      <td>['Drama']</td>\n",
       "      <td>NaN</td>\n",
       "      <td>159550.0</td>\n",
       "      <td>tt0255313</td>\n",
       "      <td>...</td>\n",
       "      <td>NaN</td>\n",
       "      <td>The Last Brickmaker in America</td>\n",
       "      <td>False</td>\n",
       "      <td>7.0</td>\n",
       "      <td>1.0</td>\n",
       "      <td>287</td>\n",
       "      <td>5.0</td>\n",
       "      <td>1470167824</td>\n",
       "      <td>[{'cast_id': 1, 'character': 'Henry Cobb', 'cr...</td>\n",
       "      <td>[{'credit_id': '544475aac3a36819fb000578', 'de...</td>\n",
       "    </tr>\n",
       "    <tr>\n",
       "      <th>99927</th>\n",
       "      <td>162542</td>\n",
       "      <td>5165344</td>\n",
       "      <td>392572.0</td>\n",
       "      <td>False</td>\n",
       "      <td>NaN</td>\n",
       "      <td>1000000</td>\n",
       "      <td>['Thriller', 'Romance']</td>\n",
       "      <td>NaN</td>\n",
       "      <td>392572.0</td>\n",
       "      <td>tt5165344</td>\n",
       "      <td>...</td>\n",
       "      <td>Decorated Officer. Devoted Family Man. Defendi...</td>\n",
       "      <td>Rustom</td>\n",
       "      <td>False</td>\n",
       "      <td>7.3</td>\n",
       "      <td>25.0</td>\n",
       "      <td>611</td>\n",
       "      <td>5.0</td>\n",
       "      <td>1471520667</td>\n",
       "      <td>[{'cast_id': 0, 'character': 'Rustom Pavri', '...</td>\n",
       "      <td>[{'credit_id': '5951baf692514129c4016600', 'de...</td>\n",
       "    </tr>\n",
       "    <tr>\n",
       "      <th>99928</th>\n",
       "      <td>162672</td>\n",
       "      <td>3859980</td>\n",
       "      <td>402672.0</td>\n",
       "      <td>False</td>\n",
       "      <td>NaN</td>\n",
       "      <td>15050000</td>\n",
       "      <td>['Adventure', 'Drama', 'History', 'Romance']</td>\n",
       "      <td>NaN</td>\n",
       "      <td>402672.0</td>\n",
       "      <td>tt3859980</td>\n",
       "      <td>...</td>\n",
       "      <td>NaN</td>\n",
       "      <td>Mohenjo Daro</td>\n",
       "      <td>False</td>\n",
       "      <td>6.7</td>\n",
       "      <td>26.0</td>\n",
       "      <td>611</td>\n",
       "      <td>3.0</td>\n",
       "      <td>1471523986</td>\n",
       "      <td>[{'cast_id': 0, 'character': 'Sarman', 'credit...</td>\n",
       "      <td>[{'credit_id': '57cd5d3592514179d50018e8', 'de...</td>\n",
       "    </tr>\n",
       "    <tr>\n",
       "      <th>99929</th>\n",
       "      <td>163949</td>\n",
       "      <td>2531318</td>\n",
       "      <td>391698.0</td>\n",
       "      <td>False</td>\n",
       "      <td>NaN</td>\n",
       "      <td>0</td>\n",
       "      <td>['Documentary', 'Music']</td>\n",
       "      <td>http://www.thebeatlesliveproject.com/</td>\n",
       "      <td>391698.0</td>\n",
       "      <td>tt2531318</td>\n",
       "      <td>...</td>\n",
       "      <td>The band you know. The story you don't.</td>\n",
       "      <td>The Beatles: Eight Days a Week - The Touring Y...</td>\n",
       "      <td>False</td>\n",
       "      <td>7.6</td>\n",
       "      <td>92.0</td>\n",
       "      <td>547</td>\n",
       "      <td>5.0</td>\n",
       "      <td>1476419239</td>\n",
       "      <td>[{'cast_id': 0, 'character': 'Himself', 'credi...</td>\n",
       "      <td>[{'credit_id': '57057c6cc3a3680dca000285', 'de...</td>\n",
       "    </tr>\n",
       "  </tbody>\n",
       "</table>\n",
       "<p>99810 rows × 32 columns</p>\n",
       "</div>"
      ],
      "text/plain": [
       "       movieId   imdbId    tmdbId  adult  \\\n",
       "0            1   114709     862.0  False   \n",
       "1            1   114709     862.0  False   \n",
       "2            1   114709     862.0  False   \n",
       "3            1   114709     862.0  False   \n",
       "4            1   114709     862.0  False   \n",
       "...        ...      ...       ...    ...   \n",
       "99925   161918  4831420  390989.0  False   \n",
       "99926   161944   255313  159550.0  False   \n",
       "99927   162542  5165344  392572.0  False   \n",
       "99928   162672  3859980  402672.0  False   \n",
       "99929   163949  2531318  391698.0  False   \n",
       "\n",
       "                                   belongs_to_collection    budget  \\\n",
       "0      {'id': 10194, 'name': 'Toy Story Collection', ...  30000000   \n",
       "1      {'id': 10194, 'name': 'Toy Story Collection', ...  30000000   \n",
       "2      {'id': 10194, 'name': 'Toy Story Collection', ...  30000000   \n",
       "3      {'id': 10194, 'name': 'Toy Story Collection', ...  30000000   \n",
       "4      {'id': 10194, 'name': 'Toy Story Collection', ...  30000000   \n",
       "...                                                  ...       ...   \n",
       "99925  {'id': 286023, 'name': 'Sharknado Collection',...         0   \n",
       "99926                                                NaN   8000000   \n",
       "99927                                                NaN   1000000   \n",
       "99928                                                NaN  15050000   \n",
       "99929                                                NaN         0   \n",
       "\n",
       "                                             genres  \\\n",
       "0                 ['Animation', 'Comedy', 'Family']   \n",
       "1                 ['Animation', 'Comedy', 'Family']   \n",
       "2                 ['Animation', 'Comedy', 'Family']   \n",
       "3                 ['Animation', 'Comedy', 'Family']   \n",
       "4                 ['Animation', 'Comedy', 'Family']   \n",
       "...                                             ...   \n",
       "99925       ['Comedy', 'Horror', 'Science Fiction']   \n",
       "99926                                     ['Drama']   \n",
       "99927                       ['Thriller', 'Romance']   \n",
       "99928  ['Adventure', 'Drama', 'History', 'Romance']   \n",
       "99929                      ['Documentary', 'Music']   \n",
       "\n",
       "                                    homepage        id    imdb_id  ...  \\\n",
       "0       http://toystory.disney.com/toy-story     862.0  tt0114709  ...   \n",
       "1       http://toystory.disney.com/toy-story     862.0  tt0114709  ...   \n",
       "2       http://toystory.disney.com/toy-story     862.0  tt0114709  ...   \n",
       "3       http://toystory.disney.com/toy-story     862.0  tt0114709  ...   \n",
       "4       http://toystory.disney.com/toy-story     862.0  tt0114709  ...   \n",
       "...                                      ...       ...        ...  ...   \n",
       "99925         http://www.syfy.com/sharknado4  390989.0  tt4831420  ...   \n",
       "99926                                    NaN  159550.0  tt0255313  ...   \n",
       "99927                                    NaN  392572.0  tt5165344  ...   \n",
       "99928                                    NaN  402672.0  tt3859980  ...   \n",
       "99929  http://www.thebeatlesliveproject.com/  391698.0  tt2531318  ...   \n",
       "\n",
       "                                                 tagline  \\\n",
       "0                                                    NaN   \n",
       "1                                                    NaN   \n",
       "2                                                    NaN   \n",
       "3                                                    NaN   \n",
       "4                                                    NaN   \n",
       "...                                                  ...   \n",
       "99925  What happens in Vegas, stays in Vegas. Unless ...   \n",
       "99926                                                NaN   \n",
       "99927  Decorated Officer. Devoted Family Man. Defendi...   \n",
       "99928                                                NaN   \n",
       "99929            The band you know. The story you don't.   \n",
       "\n",
       "                                                   title  video vote_average  \\\n",
       "0                                              Toy Story  False          7.7   \n",
       "1                                              Toy Story  False          7.7   \n",
       "2                                              Toy Story  False          7.7   \n",
       "3                                              Toy Story  False          7.7   \n",
       "4                                              Toy Story  False          7.7   \n",
       "...                                                  ...    ...          ...   \n",
       "99925                       Sharknado 4: The 4th Awakens  False          4.3   \n",
       "99926                     The Last Brickmaker in America  False          7.0   \n",
       "99927                                             Rustom  False          7.3   \n",
       "99928                                       Mohenjo Daro  False          6.7   \n",
       "99929  The Beatles: Eight Days a Week - The Touring Y...  False          7.6   \n",
       "\n",
       "      vote_count userId rating   timestamp  \\\n",
       "0         5415.0      7    3.0   851866703   \n",
       "1         5415.0      9    4.0   938629179   \n",
       "2         5415.0     13    5.0  1331380058   \n",
       "3         5415.0     15    2.0   997938310   \n",
       "4         5415.0     19    3.0   855190091   \n",
       "...          ...    ...    ...         ...   \n",
       "99925       88.0    624    1.5  1472929873   \n",
       "99926        1.0    287    5.0  1470167824   \n",
       "99927       25.0    611    5.0  1471520667   \n",
       "99928       26.0    611    3.0  1471523986   \n",
       "99929       92.0    547    5.0  1476419239   \n",
       "\n",
       "                                                    cast  \\\n",
       "0      [{'cast_id': 14, 'character': 'Woody (voice)',...   \n",
       "1      [{'cast_id': 14, 'character': 'Woody (voice)',...   \n",
       "2      [{'cast_id': 14, 'character': 'Woody (voice)',...   \n",
       "3      [{'cast_id': 14, 'character': 'Woody (voice)',...   \n",
       "4      [{'cast_id': 14, 'character': 'Woody (voice)',...   \n",
       "...                                                  ...   \n",
       "99925  [{'cast_id': 0, 'character': 'Fin Shepard', 'c...   \n",
       "99926  [{'cast_id': 1, 'character': 'Henry Cobb', 'cr...   \n",
       "99927  [{'cast_id': 0, 'character': 'Rustom Pavri', '...   \n",
       "99928  [{'cast_id': 0, 'character': 'Sarman', 'credit...   \n",
       "99929  [{'cast_id': 0, 'character': 'Himself', 'credi...   \n",
       "\n",
       "                                                    crew  \n",
       "0      [{'credit_id': '52fe4284c3a36847f8024f49', 'de...  \n",
       "1      [{'credit_id': '52fe4284c3a36847f8024f49', 'de...  \n",
       "2      [{'credit_id': '52fe4284c3a36847f8024f49', 'de...  \n",
       "3      [{'credit_id': '52fe4284c3a36847f8024f49', 'de...  \n",
       "4      [{'credit_id': '52fe4284c3a36847f8024f49', 'de...  \n",
       "...                                                  ...  \n",
       "99925  [{'credit_id': '56ffae0cc3a3686ea7001e00', 'de...  \n",
       "99926  [{'credit_id': '544475aac3a36819fb000578', 'de...  \n",
       "99927  [{'credit_id': '5951baf692514129c4016600', 'de...  \n",
       "99928  [{'credit_id': '57cd5d3592514179d50018e8', 'de...  \n",
       "99929  [{'credit_id': '57057c6cc3a3680dca000285', 'de...  \n",
       "\n",
       "[99810 rows x 32 columns]"
      ]
     },
     "execution_count": 12,
     "metadata": {},
     "output_type": "execute_result"
    }
   ],
   "source": [
    "final    #this contains genre in the form of lists"
   ]
  },
  {
   "cell_type": "markdown",
   "metadata": {
    "id": "GJlEj-CQ3X10"
   },
   "source": [
    "Now, to finally create the user interaction matrix whose rows represent movies, columns represent users and entries represent ratings:\n",
    "\n",
    "We use pivot() function with index,columns and values as attributes\n",
    "\n",
    "And then finally create the utility matrix using to_numpy()"
   ]
  },
  {
   "cell_type": "code",
   "execution_count": 13,
   "metadata": {
    "id": "Dvb-0luRyOqL"
   },
   "outputs": [],
   "source": [
    "utili=df.pivot(index='movieId',columns='userId',values='rating')\n",
    "utili=utili.fillna(0)\n",
    "# The rating ranges from 0.5 to 5 with increments of 5 therefore the minimum rating is 0.5.\n",
    "# We can assign 0 to nan values"
   ]
  },
  {
   "cell_type": "code",
   "execution_count": 14,
   "metadata": {
    "colab": {
     "base_uri": "https://localhost:8080/",
     "height": 267
    },
    "id": "-NeNmqUNw0gQ",
    "outputId": "564bf09b-cd9d-424a-c591-301cb81cb7aa"
   },
   "outputs": [
    {
     "data": {
      "text/html": [
       "<div>\n",
       "<style scoped>\n",
       "    .dataframe tbody tr th:only-of-type {\n",
       "        vertical-align: middle;\n",
       "    }\n",
       "\n",
       "    .dataframe tbody tr th {\n",
       "        vertical-align: top;\n",
       "    }\n",
       "\n",
       "    .dataframe thead th {\n",
       "        text-align: right;\n",
       "    }\n",
       "</style>\n",
       "<table border=\"1\" class=\"dataframe\">\n",
       "  <thead>\n",
       "    <tr style=\"text-align: right;\">\n",
       "      <th>userId</th>\n",
       "      <th>1</th>\n",
       "      <th>2</th>\n",
       "      <th>3</th>\n",
       "      <th>4</th>\n",
       "      <th>5</th>\n",
       "      <th>6</th>\n",
       "      <th>7</th>\n",
       "      <th>8</th>\n",
       "      <th>9</th>\n",
       "      <th>10</th>\n",
       "      <th>...</th>\n",
       "      <th>662</th>\n",
       "      <th>663</th>\n",
       "      <th>664</th>\n",
       "      <th>665</th>\n",
       "      <th>666</th>\n",
       "      <th>667</th>\n",
       "      <th>668</th>\n",
       "      <th>669</th>\n",
       "      <th>670</th>\n",
       "      <th>671</th>\n",
       "    </tr>\n",
       "    <tr>\n",
       "      <th>movieId</th>\n",
       "      <th></th>\n",
       "      <th></th>\n",
       "      <th></th>\n",
       "      <th></th>\n",
       "      <th></th>\n",
       "      <th></th>\n",
       "      <th></th>\n",
       "      <th></th>\n",
       "      <th></th>\n",
       "      <th></th>\n",
       "      <th></th>\n",
       "      <th></th>\n",
       "      <th></th>\n",
       "      <th></th>\n",
       "      <th></th>\n",
       "      <th></th>\n",
       "      <th></th>\n",
       "      <th></th>\n",
       "      <th></th>\n",
       "      <th></th>\n",
       "      <th></th>\n",
       "    </tr>\n",
       "  </thead>\n",
       "  <tbody>\n",
       "    <tr>\n",
       "      <th>1</th>\n",
       "      <td>0.0</td>\n",
       "      <td>0.0</td>\n",
       "      <td>0.0</td>\n",
       "      <td>0.0</td>\n",
       "      <td>0.0</td>\n",
       "      <td>0.0</td>\n",
       "      <td>3.0</td>\n",
       "      <td>0.0</td>\n",
       "      <td>4.0</td>\n",
       "      <td>0.0</td>\n",
       "      <td>...</td>\n",
       "      <td>0.0</td>\n",
       "      <td>4.0</td>\n",
       "      <td>3.5</td>\n",
       "      <td>0.0</td>\n",
       "      <td>0.0</td>\n",
       "      <td>0.0</td>\n",
       "      <td>0.0</td>\n",
       "      <td>0.0</td>\n",
       "      <td>4.0</td>\n",
       "      <td>5.0</td>\n",
       "    </tr>\n",
       "    <tr>\n",
       "      <th>2</th>\n",
       "      <td>0.0</td>\n",
       "      <td>0.0</td>\n",
       "      <td>0.0</td>\n",
       "      <td>0.0</td>\n",
       "      <td>0.0</td>\n",
       "      <td>0.0</td>\n",
       "      <td>0.0</td>\n",
       "      <td>0.0</td>\n",
       "      <td>0.0</td>\n",
       "      <td>0.0</td>\n",
       "      <td>...</td>\n",
       "      <td>5.0</td>\n",
       "      <td>0.0</td>\n",
       "      <td>0.0</td>\n",
       "      <td>3.0</td>\n",
       "      <td>0.0</td>\n",
       "      <td>0.0</td>\n",
       "      <td>0.0</td>\n",
       "      <td>0.0</td>\n",
       "      <td>0.0</td>\n",
       "      <td>0.0</td>\n",
       "    </tr>\n",
       "    <tr>\n",
       "      <th>3</th>\n",
       "      <td>0.0</td>\n",
       "      <td>0.0</td>\n",
       "      <td>0.0</td>\n",
       "      <td>0.0</td>\n",
       "      <td>4.0</td>\n",
       "      <td>0.0</td>\n",
       "      <td>0.0</td>\n",
       "      <td>0.0</td>\n",
       "      <td>0.0</td>\n",
       "      <td>0.0</td>\n",
       "      <td>...</td>\n",
       "      <td>0.0</td>\n",
       "      <td>0.0</td>\n",
       "      <td>0.0</td>\n",
       "      <td>3.0</td>\n",
       "      <td>0.0</td>\n",
       "      <td>0.0</td>\n",
       "      <td>0.0</td>\n",
       "      <td>0.0</td>\n",
       "      <td>0.0</td>\n",
       "      <td>0.0</td>\n",
       "    </tr>\n",
       "    <tr>\n",
       "      <th>4</th>\n",
       "      <td>0.0</td>\n",
       "      <td>0.0</td>\n",
       "      <td>0.0</td>\n",
       "      <td>0.0</td>\n",
       "      <td>0.0</td>\n",
       "      <td>0.0</td>\n",
       "      <td>0.0</td>\n",
       "      <td>0.0</td>\n",
       "      <td>0.0</td>\n",
       "      <td>0.0</td>\n",
       "      <td>...</td>\n",
       "      <td>0.0</td>\n",
       "      <td>0.0</td>\n",
       "      <td>0.0</td>\n",
       "      <td>0.0</td>\n",
       "      <td>0.0</td>\n",
       "      <td>0.0</td>\n",
       "      <td>0.0</td>\n",
       "      <td>0.0</td>\n",
       "      <td>0.0</td>\n",
       "      <td>0.0</td>\n",
       "    </tr>\n",
       "    <tr>\n",
       "      <th>5</th>\n",
       "      <td>0.0</td>\n",
       "      <td>0.0</td>\n",
       "      <td>0.0</td>\n",
       "      <td>0.0</td>\n",
       "      <td>0.0</td>\n",
       "      <td>0.0</td>\n",
       "      <td>0.0</td>\n",
       "      <td>0.0</td>\n",
       "      <td>0.0</td>\n",
       "      <td>0.0</td>\n",
       "      <td>...</td>\n",
       "      <td>0.0</td>\n",
       "      <td>0.0</td>\n",
       "      <td>0.0</td>\n",
       "      <td>3.0</td>\n",
       "      <td>0.0</td>\n",
       "      <td>0.0</td>\n",
       "      <td>0.0</td>\n",
       "      <td>0.0</td>\n",
       "      <td>0.0</td>\n",
       "      <td>0.0</td>\n",
       "    </tr>\n",
       "  </tbody>\n",
       "</table>\n",
       "<p>5 rows × 671 columns</p>\n",
       "</div>"
      ],
      "text/plain": [
       "userId   1    2    3    4    5    6    7    8    9    10   ...  662  663  664  \\\n",
       "movieId                                                    ...                  \n",
       "1        0.0  0.0  0.0  0.0  0.0  0.0  3.0  0.0  4.0  0.0  ...  0.0  4.0  3.5   \n",
       "2        0.0  0.0  0.0  0.0  0.0  0.0  0.0  0.0  0.0  0.0  ...  5.0  0.0  0.0   \n",
       "3        0.0  0.0  0.0  0.0  4.0  0.0  0.0  0.0  0.0  0.0  ...  0.0  0.0  0.0   \n",
       "4        0.0  0.0  0.0  0.0  0.0  0.0  0.0  0.0  0.0  0.0  ...  0.0  0.0  0.0   \n",
       "5        0.0  0.0  0.0  0.0  0.0  0.0  0.0  0.0  0.0  0.0  ...  0.0  0.0  0.0   \n",
       "\n",
       "userId   665  666  667  668  669  670  671  \n",
       "movieId                                     \n",
       "1        0.0  0.0  0.0  0.0  0.0  4.0  5.0  \n",
       "2        3.0  0.0  0.0  0.0  0.0  0.0  0.0  \n",
       "3        3.0  0.0  0.0  0.0  0.0  0.0  0.0  \n",
       "4        0.0  0.0  0.0  0.0  0.0  0.0  0.0  \n",
       "5        3.0  0.0  0.0  0.0  0.0  0.0  0.0  \n",
       "\n",
       "[5 rows x 671 columns]"
      ]
     },
     "execution_count": 14,
     "metadata": {},
     "output_type": "execute_result"
    }
   ],
   "source": [
    "utili.head()"
   ]
  },
  {
   "cell_type": "code",
   "execution_count": 15,
   "metadata": {
    "colab": {
     "base_uri": "https://localhost:8080/"
    },
    "id": "5a3SCBDx4Z10",
    "outputId": "c5060d78-e4e2-4f75-ca50-e871b5fd3dec"
   },
   "outputs": [
    {
     "name": "stdout",
     "output_type": "stream",
     "text": [
      "(9025, 671)\n"
     ]
    },
    {
     "data": {
      "text/plain": [
       "array([[0., 0., 0., ..., 0., 4., 5.],\n",
       "       [0., 0., 0., ..., 0., 0., 0.],\n",
       "       [0., 0., 0., ..., 0., 0., 0.],\n",
       "       ...,\n",
       "       [0., 0., 0., ..., 0., 0., 0.],\n",
       "       [0., 0., 0., ..., 0., 0., 0.],\n",
       "       [0., 0., 0., ..., 0., 0., 0.]])"
      ]
     },
     "execution_count": 15,
     "metadata": {},
     "output_type": "execute_result"
    }
   ],
   "source": [
    "Y=utili.to_numpy()\n",
    "print(Y.shape)\n",
    "Y"
   ]
  },
  {
   "cell_type": "markdown",
   "metadata": {
    "id": "5GPkQIHDBosw"
   },
   "source": [
    "Below is the R matrix which has entries 1 corresponding to movies which have been rating and 0 corresponding to movies with no ratings"
   ]
  },
  {
   "cell_type": "code",
   "execution_count": 16,
   "metadata": {
    "colab": {
     "base_uri": "https://localhost:8080/"
    },
    "id": "ngDPW5cVNYz8",
    "outputId": "df1e8fb1-a59c-4b58-8cd8-64687bb83f27"
   },
   "outputs": [
    {
     "data": {
      "text/plain": [
       "array([[0, 0, 0, ..., 0, 1, 1],\n",
       "       [0, 0, 0, ..., 0, 0, 0],\n",
       "       [0, 0, 0, ..., 0, 0, 0],\n",
       "       ...,\n",
       "       [0, 0, 0, ..., 0, 0, 0],\n",
       "       [0, 0, 0, ..., 0, 0, 0],\n",
       "       [0, 0, 0, ..., 0, 0, 0]])"
      ]
     },
     "execution_count": 16,
     "metadata": {},
     "output_type": "execute_result"
    }
   ],
   "source": [
    "R=(Y>0).astype(int)\n",
    "R"
   ]
  },
  {
   "cell_type": "markdown",
   "metadata": {
    "id": "t48eEynREfS1"
   },
   "source": [
    "# Making Recommedations"
   ]
  },
  {
   "cell_type": "markdown",
   "metadata": {
    "id": "l5lE17-zd73U"
   },
   "source": [
    "***CALCULATING SIMILARITY SCORES***\n",
    "\n",
    "For item-based collaborative filtering model we will calculate the similarity between each of the pair of movies and form a similarity matrix S where S[i,j] will represent similarity between ith and jth movie of the utility matrix\n",
    "\n",
    "Similarity metrics used mostly are:\n",
    "\n",
    "    1.Cosine Similarity\n",
    "    2.Euclidian Distance\n",
    "    3.Adusted cosine Similarity"
   ]
  },
  {
   "cell_type": "markdown",
   "metadata": {
    "id": "do8T2-QYpANb"
   },
   "source": [
    "***Eucledian distance***"
   ]
  },
  {
   "cell_type": "code",
   "execution_count": 17,
   "metadata": {
    "id": "7BoDRAr0qoSt"
   },
   "outputs": [],
   "source": [
    "# nm=Y.shape[0]\n",
    "# S1=np.zeros((nm,nm))\n",
    "# for i in range(nm):\n",
    "#   for j in range(nm):\n",
    "#     S1[i,j]=np.sum(np.square(Y[i]-Y[j]))\n",
    "# S1=np.sqrt(S1)"
   ]
  },
  {
   "cell_type": "markdown",
   "metadata": {
    "id": "lKW4_uKiitvl"
   },
   "source": [
    "The run time of above code for calculating eucledian distance from scratchis very high so we use a efficient approach below"
   ]
  },
  {
   "cell_type": "code",
   "execution_count": 18,
   "metadata": {
    "id": "gBirDp60zW5e"
   },
   "outputs": [],
   "source": [
    "from sklearn.metrics.pairwise import euclidean_distances\n",
    "S1=euclidean_distances(Y,Y)"
   ]
  },
  {
   "cell_type": "markdown",
   "metadata": {
    "id": "8S3RDiqDPuSa"
   },
   "source": [
    "***Cosine similarity***"
   ]
  },
  {
   "cell_type": "code",
   "execution_count": 19,
   "metadata": {
    "id": "naIhHuelepcW"
   },
   "outputs": [],
   "source": [
    "# nm=Y.shape[0]\n",
    "# S2=np.zeros((nm,nm))\n",
    "# for i in range(nm):\n",
    "#   for j in range(nm):\n",
    "#     S2[i,j]=np.dot(Y[i],Y[j])\n",
    "#     S2[i,j]=S2[i,j]/(norm(Y[i])*norm(Y[j]))\n",
    "# S2"
   ]
  },
  {
   "cell_type": "markdown",
   "metadata": {
    "id": "GlznQ9xCjFfk"
   },
   "source": [
    "Similarly the run time of above is large so not preferred"
   ]
  },
  {
   "cell_type": "code",
   "execution_count": 20,
   "metadata": {
    "id": "9RN2LEtl550M"
   },
   "outputs": [],
   "source": [
    "from sklearn.metrics.pairwise import cosine_similarity\n",
    "S2=cosine_similarity(Y)"
   ]
  },
  {
   "cell_type": "markdown",
   "metadata": {
    "id": "2chHe3Jd75H0"
   },
   "source": [
    "***Adjusted cosine similarity***"
   ]
  },
  {
   "cell_type": "markdown",
   "metadata": {
    "id": "7PlDfKxr_81W"
   },
   "source": [
    "Preprocess the data by subtracting mean rating of every movie(every row). This normilization is done so that each movie has a rating of 0 on average whether rated or not."
   ]
  },
  {
   "cell_type": "code",
   "execution_count": 21,
   "metadata": {
    "id": "t4NCfg_JIyXd"
   },
   "outputs": [],
   "source": [
    "u=(np.sum(Y,axis=1)/(np.sum(R,axis=1)+1e-12)).reshape(-1,1)  #mean matrix"
   ]
  },
  {
   "cell_type": "code",
   "execution_count": 22,
   "metadata": {
    "id": "JYO6DPLAJdoM"
   },
   "outputs": [],
   "source": [
    "S3=cosine_similarity(Y-u)"
   ]
  },
  {
   "cell_type": "markdown",
   "metadata": {
    "id": "OJTgvnh6JF6S"
   },
   "source": [
    "Predict rating \n",
    "\n",
    "##though ratings are better predicted using trained models\n"
   ]
  },
  {
   "cell_type": "code",
   "execution_count": 23,
   "metadata": {
    "id": "L3zUJ3KeGPwH"
   },
   "outputs": [],
   "source": [
    "def predict_rating(userId,movieId,s2):\n",
    "    index=utili.index.get_loc(movieId)\n",
    "    user_rated_rating=utili.loc[:,userId].to_numpy()\n",
    "    return np.dot(s2[index],user_rated_rating)/np.sum(s2[index])\n"
   ]
  },
  {
   "cell_type": "code",
   "execution_count": 24,
   "metadata": {
    "id": "gorehlYmCwLs"
   },
   "outputs": [
    {
     "data": {
      "text/plain": [
       "3.42433570136621"
      ]
     },
     "execution_count": 24,
     "metadata": {},
     "output_type": "execute_result"
    }
   ],
   "source": [
    "predict_rating(1,31,S2)+u[1,0]"
   ]
  },
  {
   "cell_type": "markdown",
   "metadata": {
    "id": "_QIOuvYYkkuu"
   },
   "source": [
    "# The Final Test"
   ]
  },
  {
   "cell_type": "markdown",
   "metadata": {
    "id": "p8sLthrOkwvp"
   },
   "source": [
    "Let's get top 5 movies similar to your favourite movie!"
   ]
  },
  {
   "cell_type": "code",
   "execution_count": 25,
   "metadata": {},
   "outputs": [
    {
     "name": "stdin",
     "output_type": "stream",
     "text": [
      "Enter your movie:  Toy Story\n"
     ]
    }
   ],
   "source": [
    "fav_movie=input(\"Enter your movie: \")"
   ]
  },
  {
   "cell_type": "code",
   "execution_count": 26,
   "metadata": {},
   "outputs": [],
   "source": [
    "movieId=final.loc[final['title'] == fav_movie, 'movieId'].values[0]\n",
    "index=utili.index.get_loc(movieId)"
   ]
  },
  {
   "cell_type": "code",
   "execution_count": 27,
   "metadata": {
    "id": "pHKhY3HcJ_zk"
   },
   "outputs": [
    {
     "data": {
      "text/plain": [
       "[0, 2501, 232, 321, 641, 1015]"
      ]
     },
     "execution_count": 27,
     "metadata": {},
     "output_type": "execute_result"
    }
   ],
   "source": [
    "sorted_indices = sorted(range(len(S2[index])), key=lambda i: S2[index,i],reverse=True)\n",
    "top_5=sorted_indices[0:6]\n",
    "top_5 # this array contains actual index of the 5 most similar movies"
   ]
  },
  {
   "cell_type": "code",
   "execution_count": 28,
   "metadata": {
    "colab": {
     "base_uri": "https://localhost:8080/"
    },
    "id": "dNKsWat3KNsg",
    "outputId": "0cccf700-f973-413f-a800-12b902f48bc8"
   },
   "outputs": [
    {
     "name": "stdout",
     "output_type": "stream",
     "text": [
      "1 . Toy Story 2 ['Animation', 'Comedy', 'Family']\n",
      "2 . Star Wars ['Adventure', 'Action', 'Science Fiction']\n",
      "3 . Forrest Gump ['Comedy', 'Drama', 'Romance']\n",
      "4 . Independence Day ['Action', 'Adventure', 'Science Fiction']\n",
      "5 . Groundhog Day ['Romance', 'Fantasy', 'Drama', 'Comedy']\n"
     ]
    }
   ],
   "source": [
    "for k in range(1,6):   #do not consider the input movie\n",
    "  a=utili.index[top_5[k]]\n",
    "  print(k,'.',final.loc[final['movieId'] == a, 'title'].values[0], final.loc[final['movieId'] == a, 'genres'].values[0])"
   ]
  },
  {
   "cell_type": "markdown",
   "metadata": {},
   "source": [
    "for input movie(Toy story)\n",
    "\n",
    "**Adjusted Cosine Similarity:**\n",
    "    \n",
    "    1 . Toy Story 2 ['Animation', 'Comedy', 'Family']\n",
    "    2 . A Bug's Life ['Adventure', 'Animation', 'Comedy', 'Family']\n",
    "    3 . Toy Story 3 ['Animation', 'Comedy', 'Family']\n",
    "    4 . Monsters, Inc. ['Animation', 'Comedy', 'Family']\n",
    "    5 . Tarzan ['Animation', 'Comedy', 'Family']\n",
    "    \n",
    "**Cosine Similarity:**\n",
    "\n",
    "    1 . Toy Story 2 ['Animation', 'Comedy', 'Family']\n",
    "    2 . Star Wars ['Animation', 'Comedy', 'Family']\n",
    "    3 . Forrest Gump ['Animation', 'Comedy', 'Family']\n",
    "    4 . Independence Day ['Action', 'Adventure', 'Science Fiction']\n",
    "    5 . Groundhog Day ['Romance', 'Fantasy', 'Drama', 'Comedy']\n",
    "\n",
    "**Eucledian Distances:**\n",
    "\n",
    "    1 . Toy Story 2 ['Animation', 'Comedy', 'Family']\n",
    "    2 . A Bug's Life ['Adventure', 'Animation', 'Comedy', 'Family']\n",
    "    3 . Groundhog Day ['Romance', 'Fantasy', 'Drama', 'Comedy']\n",
    "    4 . Independence Day ['Action', 'Adventure', 'Science Fiction']\n",
    "    5 . Monsters, Inc. ['Animation', 'Comedy', 'Family']\n",
    "\n",
    "Observe that the recommedations made by adjusted cosine similarity is better than the other two"
   ]
  },
  {
   "cell_type": "markdown",
   "metadata": {
    "id": "zvG5ddb3pcL8"
   },
   "source": [
    "Above is a simple model which suggests movies similar to a input movie and is not user specific i.e. does not take into account user's past watching experience. It will suggest same movies irrespective of the user\n",
    "\n",
    "We can also suggest movies specific to a user based on user's past watching experience\n",
    "\n",
    "Let's do this using User-Factorization method"
   ]
  },
  {
   "cell_type": "markdown",
   "metadata": {},
   "source": [
    "Let's add a new user with userId=0 and give ratings to  movies as per your choice"
   ]
  },
  {
   "cell_type": "code",
   "execution_count": 29,
   "metadata": {
    "colab": {
     "base_uri": "https://localhost:8080/"
    },
    "id": "dFqHXApgi9sF",
    "outputId": "669e3520-4584-44bf-df32-3f63f7a951ab"
   },
   "outputs": [
    {
     "name": "stdout",
     "output_type": "stream",
     "text": [
      "(9025, 672)\n"
     ]
    },
    {
     "data": {
      "text/plain": [
       "array([[0., 0., 0., ..., 4., 5., 3.],\n",
       "       [0., 0., 0., ..., 0., 0., 2.],\n",
       "       [0., 0., 0., ..., 0., 0., 0.],\n",
       "       ...,\n",
       "       [0., 0., 0., ..., 0., 0., 0.],\n",
       "       [0., 0., 0., ..., 0., 0., 0.],\n",
       "       [0., 0., 0., ..., 0., 0., 4.]])"
      ]
     },
     "execution_count": 29,
     "metadata": {},
     "output_type": "execute_result"
    }
   ],
   "source": [
    "utili[0]=np.nan\n",
    "utili.loc[1,0]=3\n",
    "utili.loc[163949,0]=4\n",
    "utili.loc[2,0]=2\n",
    "utili.loc[4,0]=3.5\n",
    "utili.loc[1061,0]=5\n",
    "utili.loc[1029,0]=4\n",
    "utili.loc[3671,0]=3\n",
    "utili=utili.fillna(0)\n",
    "Y=utili.to_numpy()\n",
    "print(Y.shape)\n",
    "Y   #new utility matrix"
   ]
  },
  {
   "cell_type": "code",
   "execution_count": 30,
   "metadata": {
    "id": "7HKbrovy3HcV"
   },
   "outputs": [],
   "source": [
    "R=(Y>0).astype(int)  #R is a matrix which contains binary label 1 for movies which have been rated"
   ]
  },
  {
   "cell_type": "code",
   "execution_count": 31,
   "metadata": {
    "id": "RtACR4Vg2u9h"
   },
   "outputs": [],
   "source": [
    "u=np.sum(Y,axis=1)/(np.sum(R,axis=1)+1e-12)\n",
    "u=u.reshape(Y.shape[0],1)\n",
    "Y=Y-u\n",
    "# We normalize the ratings by subtracting avg rating of a movie(mean along a row) so that each movie now will have a rating 0"
   ]
  },
  {
   "cell_type": "code",
   "execution_count": 32,
   "metadata": {},
   "outputs": [],
   "source": [
    "num_movies,num_users=Y.shape\n",
    "num_features = 500"
   ]
  },
  {
   "cell_type": "code",
   "execution_count": 33,
   "metadata": {
    "id": "VqVRa97q6iNq"
   },
   "outputs": [],
   "source": [
    "def cofi_cost_func_v(X, W, b, Y, R, lambda_):\n",
    "    \n",
    "    # Vectorized implementation of cost function for speed using tensorflow operations \n",
    "          # X (num_movies,num_features): matrix of movie features\n",
    "          # W (num_users,num_features) : matrix of user parameters\n",
    "          # b (1, num_users)           :biasing vector of user parameters\n",
    "          # lamb (float): regularization parameter\n",
    "    \n",
    "    j = (tf.linalg.matmul(X, tf.transpose(W)) + b - Y)*R\n",
    "    J = 0.5 * tf.reduce_sum(j**2) + (lambda_/2) * (tf.reduce_sum(X**2) + tf.reduce_sum(W**2))\n",
    "    return J\n",
    "\n",
    "# initialize Parameters (W, X), use tf.Variable to track these variables\n",
    "tf.random.set_seed(1234) # for consistent results\n",
    "W = tf.Variable(tf.random.normal((num_users,  num_features),dtype=tf.float64),  name='W')\n",
    "X = tf.Variable(tf.random.normal((num_movies, num_features),dtype=tf.float64),  name='X')\n",
    "b = tf.Variable(tf.random.normal((1,          num_users),   dtype=tf.float64),  name='b')\n",
    "\n",
    "# Instantiate an optimizer.\n",
    "optimizer = keras.optimizers.Adam(learning_rate=1e-1)\n"
   ]
  },
  {
   "cell_type": "code",
   "execution_count": 34,
   "metadata": {
    "colab": {
     "base_uri": "https://localhost:8080/"
    },
    "id": "uHXoX6kj6mEU",
    "outputId": "f06d1c27-88da-492e-d6c1-91232035d592"
   },
   "outputs": [
    {
     "name": "stdout",
     "output_type": "stream",
     "text": [
      "Training loss at iteration 0: 27594174.2\n",
      "Training loss at iteration 20: 1976541.3\n",
      "Training loss at iteration 40: 1036670.1\n",
      "Training loss at iteration 60: 641384.5\n",
      "Training loss at iteration 80: 422773.9\n",
      "Training loss at iteration 100: 290376.2\n",
      "Training loss at iteration 120: 205860.5\n",
      "Training loss at iteration 140: 149805.6\n",
      "Training loss at iteration 160: 111447.2\n",
      "Training loss at iteration 180: 84493.8\n",
      "Training loss at iteration 200: 65120.4\n",
      "Training loss at iteration 220: 50923.8\n",
      "Training loss at iteration 240: 40349.2\n",
      "Training loss at iteration 260: 32364.0\n",
      "Training loss at iteration 280: 26265.6\n"
     ]
    }
   ],
   "source": [
    "iterations = 300\n",
    "lamb = 1\n",
    "costs=[]\n",
    "for iter in range(iterations):\n",
    "    with tf.GradientTape() as tape:\n",
    "        # Compute the cost\n",
    "        cost_value = cofi_cost_func_v(X, W, b, Y, R, lamb)\n",
    "\n",
    "    # Use the gradient tape to automatically compute gradients with respect to loss\n",
    "    grads = tape.gradient( cost_value, [X,W,b] )\n",
    "\n",
    "    # Run one step of gradient descent by changing the values of parameters\n",
    "    optimizer.apply_gradients( zip(grads, [X,W,b]) )\n",
    "    # print cost every 2oth iteration\n",
    "    if iter % 20 == 0:\n",
    "        costs.append(cost_value)\n",
    "        print(f\"Training loss at iteration {iter}: {cost_value:0.1f}\")"
   ]
  },
  {
   "cell_type": "code",
   "execution_count": 58,
   "metadata": {
    "colab": {
     "base_uri": "https://localhost:8080/",
     "height": 445
    },
    "id": "vGxFAEcn8vcV",
    "outputId": "0c93ccd0-3c64-4cd0-c927-879b38cd9364"
   },
   "outputs": [],
   "source": [
    "# plt.plot(costs)\n",
    "# plt.show()"
   ]
  },
  {
   "cell_type": "markdown",
   "metadata": {
    "id": "1ozZ-XOUD-T-"
   },
   "source": [
    "We now have learned the movie feature vector(X) and user feature vector(W)"
   ]
  },
  {
   "cell_type": "markdown",
   "metadata": {
    "id": "cAlyf-H0EL0O"
   },
   "source": [
    "# Evaluation"
   ]
  },
  {
   "cell_type": "code",
   "execution_count": 36,
   "metadata": {
    "colab": {
     "base_uri": "https://localhost:8080/"
    },
    "id": "dAFo7mY6Aknn",
    "outputId": "e756953b-2e3d-4cc0-eb0e-465cd0dc75b6"
   },
   "outputs": [
    {
     "data": {
      "text/plain": [
       "array([[0., 0., 0., ..., 4., 5., 3.],\n",
       "       [0., 0., 0., ..., 0., 0., 2.],\n",
       "       [0., 0., 0., ..., 0., 0., 0.],\n",
       "       ...,\n",
       "       [0., 0., 0., ..., 0., 0., 0.],\n",
       "       [0., 0., 0., ..., 0., 0., 0.],\n",
       "       [0., 0., 0., ..., 0., 0., 4.]])"
      ]
     },
     "execution_count": 36,
     "metadata": {},
     "output_type": "execute_result"
    }
   ],
   "source": [
    "Y+u  #actual ratings"
   ]
  },
  {
   "cell_type": "code",
   "execution_count": 37,
   "metadata": {
    "colab": {
     "base_uri": "https://localhost:8080/"
    },
    "id": "iWKfiSul6fE7",
    "outputId": "7bcee62f-852f-402f-ca7f-ce4774d58ebe"
   },
   "outputs": [
    {
     "data": {
      "text/plain": [
       "array([[2.11367035, 2.77343834, 1.40197207, ..., 3.9982926 , 4.95563522,\n",
       "        3.0109457 ],\n",
       "       [3.36082232, 3.60747085, 2.01135966, ..., 3.82489626, 1.8310824 ,\n",
       "        2.03620771],\n",
       "       [2.16120527, 1.55998548, 2.6633357 , ..., 3.06425634, 3.1926419 ,\n",
       "        2.49527687],\n",
       "       ...,\n",
       "       [4.5430735 , 5.21949416, 4.4096274 , ..., 5.17428396, 5.48247641,\n",
       "        4.51027765],\n",
       "       [2.54278637, 3.24962434, 2.44298426, ..., 3.19119117, 3.43286775,\n",
       "        2.48718606],\n",
       "       [4.14889906, 4.67472945, 3.9155405 , ..., 4.65991507, 4.90307244,\n",
       "        4.07809339]])"
      ]
     },
     "execution_count": 37,
     "metadata": {},
     "output_type": "execute_result"
    }
   ],
   "source": [
    "p = np.matmul(X.numpy(), np.transpose(W.numpy())) + b.numpy()\n",
    "#restore the mean\n",
    "pm = p + u\n",
    "pm  #predicted ratings"
   ]
  },
  {
   "cell_type": "markdown",
   "metadata": {},
   "source": [
    "RMSE(root mean square error) and MAE (mean absolute error) are some of the ways which can be used to evaluate our trained model"
   ]
  },
  {
   "cell_type": "code",
   "execution_count": 38,
   "metadata": {
    "colab": {
     "base_uri": "https://localhost:8080/"
    },
    "id": "R6c30FhuBLYn",
    "outputId": "974fcfb9-4196-4b85-9bc3-3da6cd74d2b3"
   },
   "outputs": [
    {
     "name": "stdout",
     "output_type": "stream",
     "text": [
      "RMSE for above trained model: 0.033102047930094615\n",
      "MAE for above trained model: 0.024205589984094722\n"
     ]
    }
   ],
   "source": [
    "rmse=np.sum(np.square((Y+u-pm)*R))/np.sum(R)  #rmse\n",
    "rmse=np.sqrt(rmse)\n",
    "mae=np.sum(np.abs((Y+u-pm)*R))/np.sum(R)\n",
    "print('RMSE for above trained model:',rmse)\n",
    "print('MAE for above trained model:',mae)"
   ]
  },
  {
   "cell_type": "markdown",
   "metadata": {},
   "source": [
    "Make a predict function to predict rating of a movie for a particular user"
   ]
  },
  {
   "cell_type": "code",
   "execution_count": 39,
   "metadata": {
    "id": "klzzQZd4EJZQ"
   },
   "outputs": [],
   "source": [
    "def predict(movie_index,user_index,x,w,b):\n",
    "  y_cap=np.dot(x[movie_index],w[user_index])+b[0,user_index]+u[movie_index,0]\n",
    "  return y_cap"
   ]
  },
  {
   "cell_type": "markdown",
   "metadata": {},
   "source": [
    "user_rated dataframe will store movies already rated by our target user"
   ]
  },
  {
   "cell_type": "code",
   "execution_count": 40,
   "metadata": {},
   "outputs": [
    {
     "data": {
      "text/plain": [
       "movieId\n",
       "1         3.0\n",
       "2         2.0\n",
       "4         3.5\n",
       "1029      4.0\n",
       "1061      5.0\n",
       "3671      3.0\n",
       "163949    4.0\n",
       "Name: 0, dtype: float64"
      ]
     },
     "execution_count": 40,
     "metadata": {},
     "output_type": "execute_result"
    }
   ],
   "source": [
    "userId=0      #target userId\n",
    "user_rated=(utili[userId])[((utili[userId]) != 0)]\n",
    "user_rated"
   ]
  },
  {
   "cell_type": "code",
   "execution_count": 41,
   "metadata": {},
   "outputs": [],
   "source": [
    "user_ratedId=user_rated.index\n",
    "user_ratings=user_rated.to_numpy()"
   ]
  },
  {
   "cell_type": "code",
   "execution_count": 42,
   "metadata": {},
   "outputs": [],
   "source": [
    "ui=utili.columns.get_loc(userId)\n",
    "rate={}\n",
    "for Id in (utili.index):\n",
    "    mi=utili.index.get_loc(Id)\n",
    "    rate[mi]={}\n",
    "    rate[mi]['Id']=Id\n",
    "    rate[mi]['pre_rate']=predict(mi,ui,X.numpy(),W.numpy(),b.numpy())"
   ]
  },
  {
   "cell_type": "markdown",
   "metadata": {},
   "source": [
    "The above loop has a high runtime due to large number of movies.\n",
    "    \n",
    "We can use K-nearest-neighbiours approach which finds K similar movies to each of the movie user has watched and predicts ratings of each of them. The one already watched are filtered out and top 5 movies are recommended to the user."
   ]
  },
  {
   "cell_type": "code",
   "execution_count": 43,
   "metadata": {},
   "outputs": [],
   "source": [
    "opm=(pd.DataFrame.from_dict(rate, orient='index'))\n",
    "opm = opm.sort_values('pre_rate', ascending=False).reset_index(drop=True)\n",
    "# opm dataframe contains predicted ratings of movies in descending order of ratings"
   ]
  },
  {
   "cell_type": "code",
   "execution_count": 44,
   "metadata": {},
   "outputs": [
    {
     "data": {
      "text/html": [
       "<div>\n",
       "<style scoped>\n",
       "    .dataframe tbody tr th:only-of-type {\n",
       "        vertical-align: middle;\n",
       "    }\n",
       "\n",
       "    .dataframe tbody tr th {\n",
       "        vertical-align: top;\n",
       "    }\n",
       "\n",
       "    .dataframe thead th {\n",
       "        text-align: right;\n",
       "    }\n",
       "</style>\n",
       "<table border=\"1\" class=\"dataframe\">\n",
       "  <thead>\n",
       "    <tr style=\"text-align: right;\">\n",
       "      <th></th>\n",
       "      <th>Id</th>\n",
       "      <th>pre_rate</th>\n",
       "    </tr>\n",
       "  </thead>\n",
       "  <tbody>\n",
       "    <tr>\n",
       "      <th>0</th>\n",
       "      <td>1061</td>\n",
       "      <td>4.844034</td>\n",
       "    </tr>\n",
       "    <tr>\n",
       "      <th>1</th>\n",
       "      <td>4011</td>\n",
       "      <td>4.806826</td>\n",
       "    </tr>\n",
       "    <tr>\n",
       "      <th>2</th>\n",
       "      <td>95377</td>\n",
       "      <td>4.625383</td>\n",
       "    </tr>\n",
       "    <tr>\n",
       "      <th>3</th>\n",
       "      <td>98615</td>\n",
       "      <td>4.560868</td>\n",
       "    </tr>\n",
       "    <tr>\n",
       "      <th>4</th>\n",
       "      <td>820</td>\n",
       "      <td>4.546996</td>\n",
       "    </tr>\n",
       "  </tbody>\n",
       "</table>\n",
       "</div>"
      ],
      "text/plain": [
       "      Id  pre_rate\n",
       "0   1061  4.844034\n",
       "1   4011  4.806826\n",
       "2  95377  4.625383\n",
       "3  98615  4.560868\n",
       "4    820  4.546996"
      ]
     },
     "execution_count": 44,
     "metadata": {},
     "output_type": "execute_result"
    }
   ],
   "source": [
    "opm.head()"
   ]
  },
  {
   "cell_type": "markdown",
   "metadata": {},
   "source": [
    "We will suggest top5 movies to the user"
   ]
  },
  {
   "cell_type": "code",
   "execution_count": 45,
   "metadata": {},
   "outputs": [
    {
     "name": "stdout",
     "output_type": "stream",
     "text": [
      "Snatch ['Thriller', 'Crime']\n",
      "One Man Band ['Animation', 'Family']\n",
      "Burn Up! ['Animation']\n",
      "Death in the Garden ['Adventure', 'Drama']\n",
      "29th and Gay ['Comedy']\n"
     ]
    }
   ],
   "source": [
    "t=0\n",
    "for Id in (opm['Id']):\n",
    "    if Id not in user_ratedId:\n",
    "        print(final.loc[final['movieId'] == Id, 'title'].values[0],final.loc[final['movieId'] == Id, 'genres'].values[0])\n",
    "        t+=1\n",
    "    if t==5:\n",
    "        break\n",
    "    "
   ]
  },
  {
   "cell_type": "markdown",
   "metadata": {},
   "source": [
    "***Generalized recommedations (not specific to any user) can also be made using this method***\n",
    "\n",
    "Check below!"
   ]
  },
  {
   "cell_type": "code",
   "execution_count": 46,
   "metadata": {},
   "outputs": [],
   "source": [
    "# df.loc[df['movieId'] == 1, 'title'].values[0]"
   ]
  },
  {
   "cell_type": "code",
   "execution_count": 47,
   "metadata": {},
   "outputs": [],
   "source": [
    "movieId=final.loc[final['title'] == fav_movie, 'movieId'].values[0]  #your fav movie\n",
    "mi=utili.index.get_loc(movieId)"
   ]
  },
  {
   "cell_type": "code",
   "execution_count": 48,
   "metadata": {
    "id": "coO1AUJHertS"
   },
   "outputs": [],
   "source": [
    "score={}\n",
    "for i in range(num_movies):\n",
    "  score[i]={}\n",
    "  score[i]['score']=np.dot(X[i].numpy(),X[mi].numpy())/(norm(X[i].numpy())*norm(X[mi]))\n",
    "  score[i]['id']=utili.index[i]\n"
   ]
  },
  {
   "cell_type": "code",
   "execution_count": 49,
   "metadata": {
    "id": "1F-WMfSbhnM4"
   },
   "outputs": [],
   "source": [
    "klm=(pd.DataFrame.from_dict(score, orient='index'))\n",
    "klm = klm.sort_values('score', ascending=False).reset_index(drop=True)"
   ]
  },
  {
   "cell_type": "code",
   "execution_count": 50,
   "metadata": {
    "colab": {
     "base_uri": "https://localhost:8080/",
     "height": 423
    },
    "id": "CgUws__9jSXk",
    "outputId": "6d759e2d-5907-4a89-aeab-45fc6c9f148f"
   },
   "outputs": [
    {
     "data": {
      "text/html": [
       "<div>\n",
       "<style scoped>\n",
       "    .dataframe tbody tr th:only-of-type {\n",
       "        vertical-align: middle;\n",
       "    }\n",
       "\n",
       "    .dataframe tbody tr th {\n",
       "        vertical-align: top;\n",
       "    }\n",
       "\n",
       "    .dataframe thead th {\n",
       "        text-align: right;\n",
       "    }\n",
       "</style>\n",
       "<table border=\"1\" class=\"dataframe\">\n",
       "  <thead>\n",
       "    <tr style=\"text-align: right;\">\n",
       "      <th></th>\n",
       "      <th>score</th>\n",
       "      <th>id</th>\n",
       "    </tr>\n",
       "  </thead>\n",
       "  <tbody>\n",
       "    <tr>\n",
       "      <th>0</th>\n",
       "      <td>1.000000</td>\n",
       "      <td>1</td>\n",
       "    </tr>\n",
       "    <tr>\n",
       "      <th>1</th>\n",
       "      <td>0.159152</td>\n",
       "      <td>4155</td>\n",
       "    </tr>\n",
       "    <tr>\n",
       "      <th>2</th>\n",
       "      <td>0.153625</td>\n",
       "      <td>2257</td>\n",
       "    </tr>\n",
       "    <tr>\n",
       "      <th>3</th>\n",
       "      <td>0.150473</td>\n",
       "      <td>126548</td>\n",
       "    </tr>\n",
       "    <tr>\n",
       "      <th>4</th>\n",
       "      <td>0.149143</td>\n",
       "      <td>5834</td>\n",
       "    </tr>\n",
       "  </tbody>\n",
       "</table>\n",
       "</div>"
      ],
      "text/plain": [
       "      score      id\n",
       "0  1.000000       1\n",
       "1  0.159152    4155\n",
       "2  0.153625    2257\n",
       "3  0.150473  126548\n",
       "4  0.149143    5834"
      ]
     },
     "execution_count": 50,
     "metadata": {},
     "output_type": "execute_result"
    }
   ],
   "source": [
    "klm.head()"
   ]
  },
  {
   "cell_type": "code",
   "execution_count": 51,
   "metadata": {},
   "outputs": [],
   "source": [
    "# print(klm.loc[klm['id'] == 3114, 'score'].values[0])"
   ]
  },
  {
   "cell_type": "code",
   "execution_count": 52,
   "metadata": {},
   "outputs": [
    {
     "data": {
      "text/plain": [
       "array([  4155,   2257, 126548,   5834,   8914], dtype=int64)"
      ]
     },
     "execution_count": 52,
     "metadata": {},
     "output_type": "execute_result"
    }
   ],
   "source": [
    "Top_5=klm['id'].iloc[1:6]\n",
    "c=Top_5.to_numpy()\n",
    "c  #array containing movieId of top5 movies"
   ]
  },
  {
   "cell_type": "code",
   "execution_count": 53,
   "metadata": {},
   "outputs": [
    {
     "name": "stdout",
     "output_type": "stream",
     "text": [
      "Sweet November : ['Drama', 'Romance']\n",
      "No Small Affair : ['Comedy', 'Drama', 'Music', 'Romance']\n",
      "The DUFF : ['Romance', 'Comedy']\n",
      "Fingers : ['Drama', 'Action', 'Thriller']\n",
      "Primer : ['Science Fiction', 'Drama', 'Thriller']\n"
     ]
    }
   ],
   "source": [
    "for movie in (c):\n",
    "    print(final.loc[final['movieId'] == movie, 'title'].values[0],':',final.loc[df['movieId'] == movie, 'genres'].values[0])"
   ]
  },
  {
   "cell_type": "markdown",
   "metadata": {},
   "source": [
    "Well this didn't made as good recommedations as were made by memory-based model"
   ]
  },
  {
   "cell_type": "markdown",
   "metadata": {},
   "source": [
    "User-Factorisation method is better in predicting ratings for unwatched movies "
   ]
  },
  {
   "cell_type": "markdown",
   "metadata": {},
   "source": [
    "That was our movie recommedation system"
   ]
  },
  {
   "cell_type": "code",
   "execution_count": null,
   "metadata": {},
   "outputs": [],
   "source": []
  }
 ],
 "metadata": {
  "colab": {
   "collapsed_sections": [
    "OJTgvnh6JF6S",
    "Z_0cAkAiBUfl"
   ],
   "provenance": []
  },
  "kernelspec": {
   "display_name": "Python 3 (ipykernel)",
   "language": "python",
   "name": "python3"
  },
  "language_info": {
   "codemirror_mode": {
    "name": "ipython",
    "version": 3
   },
   "file_extension": ".py",
   "mimetype": "text/x-python",
   "name": "python",
   "nbconvert_exporter": "python",
   "pygments_lexer": "ipython3",
   "version": "3.12.3"
  }
 },
 "nbformat": 4,
 "nbformat_minor": 4
}
